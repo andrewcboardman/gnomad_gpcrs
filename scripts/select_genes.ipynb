{
 "cells": [
  {
   "cell_type": "code",
   "execution_count": 78,
   "metadata": {},
   "outputs": [],
   "source": [
    "import pandas as pd\n",
    "import numpy as np\n",
    "import time"
   ]
  },
  {
   "cell_type": "code",
   "execution_count": 62,
   "metadata": {},
   "outputs": [],
   "source": [
    "gpcrs = pd.read_csv('../data/gpcr_gene_lists/gpcrs.csv',index_col=0)\n",
    "gpcrs = gpcrs[~gpcrs.HGNC_symbol.isna()]\n",
    "gpcr_gene_symbols = gpcrs.HGNC_symbol.unique()"
   ]
  },
  {
   "cell_type": "code",
   "execution_count": 63,
   "metadata": {},
   "outputs": [],
   "source": [
    "with open('../data/gene_symbols/gpcr_gene_symbols.txt','w') as f:\n",
    "    f.writelines([f'{x}\\n' for x in gpcr_gene_symbols]) "
   ]
  },
  {
   "cell_type": "code",
   "execution_count": 87,
   "metadata": {},
   "outputs": [],
   "source": [
    "universe = pd.read_csv('../data/gpcr_gene_lists/universe.csv',header=None)\n",
    "all_gene_symbols = universe[0]\n",
    "non_gpcr_genes = [gene for gene in all_gene_symbols if gene not in gpcr_gene_symbols]\n",
    "control_gene_symbols = np.random.choice(a=non_gpcr_genes,size=500)\n",
    "with open('../data/gene_symbols/control_gene_symbols.txt','w') as f:\n",
    "    f.writelines([f'{x}\\n' for x in control_gene_symbols]) "
   ]
  },
  {
   "cell_type": "markdown",
   "metadata": {},
   "source": [
    "Look up gene symbols with Biomart (Grch38 version) and download Ensembl gene IDs as `../data/gene_symbols/gpcr_gene_symbols_ensembl_lookup.txt`"
   ]
  },
  {
   "cell_type": "code",
   "execution_count": 90,
   "metadata": {},
   "outputs": [],
   "source": [
    "df = pd.read_csv('../data/gene_symbols/gpcr_gene_symbols_ensembl_lookup.txt',sep='\\t')\n",
    "with open('../data/gene_symbols/gpcr_ensembl_ids.txt','w') as fid:\n",
    "    fid.writelines([f'{x}\\n' for x in df['Gene stable ID']])\n",
    "\n",
    "df = pd.read_csv('../data/gene_symbols/control_gene_symbols_ensembl_lookup.txt',sep='\\t')\n",
    "with open('../data/gene_symbols/control_ensembl_ids.txt','w') as fid:\n",
    "    fid.writelines([f'{x}\\n' for x in df['Gene stable ID']])"
   ]
  },
  {
   "cell_type": "markdown",
   "metadata": {},
   "source": [
    "Look up Ensembl gene IDs with Biomart (Grch37 version) and download gene locations as `data/gene_symbols/gpcr_gene_locations_Grch37.txt`"
   ]
  },
  {
   "cell_type": "code",
   "execution_count": 115,
   "metadata": {},
   "outputs": [],
   "source": [
    "gpcr_gene_locations = pd.read_csv('../data/gene_symbols/gpcr_gene_locations_Grch37.txt',sep='\\t')\n",
    "control_gene_locations = pd.read_csv('../data/gene_symbols/control_gene_locations_Grch37.txt',sep='\\t')\n",
    "gene_locations = pd.concat((gpcr_gene_locations, control_gene_locations))\n",
    "proper_chromosomes = list((str(x) for x in range(1,23))) + ['X','Y']\n",
    "gene_locations_cleaned = gene_locations[gene_locations['Chromosome/scaffold name'].isin(proper_chromosomes)]\n",
    "gene_locations_cleaned.columns = ['Ensembl_gene_id','gene_start_bp','gene_end_bp','chromosome','gene_name']\n",
    "gene_locations_cleaned.to_csv('../data/gene_symbols/gene_locations_Grch37.csv')"
   ]
  },
  {
   "cell_type": "markdown",
   "metadata": {},
   "source": [
    "Check if there are any genes which are missing after lookup\n",
    "- OPN1MW & RP11-673D15.8 are mapped to a regions of chromosomes that couldn't be properly assembled in Grch37"
   ]
  },
  {
   "cell_type": "code",
   "execution_count": 113,
   "metadata": {},
   "outputs": [
    {
     "name": "stdout",
     "output_type": "stream",
     "text": [
      "RP11-673D15.8\n",
      "OPN1MW\n"
     ]
    }
   ],
   "source": [
    "for gene in gene_locations['Gene name'].unique():\n",
    "    if gene not in gene_locations_cleaned['Gene name'].unique():\n",
    "        print(gene)"
   ]
  }
 ],
 "metadata": {
  "interpreter": {
   "hash": "d144c520309591b846900365be6dbd1f23c74ca90db55f6ed2c6f618620f793a"
  },
  "kernelspec": {
   "display_name": "Python 3.8.5 64-bit ('variants': conda)",
   "language": "python",
   "name": "python3"
  },
  "language_info": {
   "codemirror_mode": {
    "name": "ipython",
    "version": 3
   },
   "file_extension": ".py",
   "mimetype": "text/x-python",
   "name": "python",
   "nbconvert_exporter": "python",
   "pygments_lexer": "ipython3",
   "version": "3.8.5"
  },
  "orig_nbformat": 4
 },
 "nbformat": 4,
 "nbformat_minor": 2
}
