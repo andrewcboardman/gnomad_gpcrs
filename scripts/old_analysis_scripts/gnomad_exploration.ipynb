{
 "cells": [
  {
   "cell_type": "code",
   "execution_count": null,
   "metadata": {},
   "outputs": [],
   "source": [
    "# View of the raw mutations\n",
    "def missense_log_plot(Uniprot_name):\n",
    "    gene_missense_variants = missense_variants_classA[missense_variants_classA['Uniprot_name'] == Uniprot_name]\n",
    "    gene_residue_labels = residue_labels_classA[residue_labels_classA['Uniprot_name'] == Uniprot_name]   \n",
    "    fig, ax1 = plt.subplots(nrows=1,figsize=(8,3))\n",
    "    ax1.bar(x=gene_missense_variants['sequence_position'],height=gene_missense_variants['allele_count'],)\n",
    "    ax1.semilogy()\n",
    "    return fig\n",
    "missense_variants_classA['consequence'].value_counts()\n",
    "# g = sns.countplot(data=missense_variants_classA, x='consequence')\n",
    "# g.set_xticklabels(g.xaxis.get_majorticklabels(),rotation=30)\n",
    "# g.set_xlabel('VEP categorical label')\n",
    "missense_variants_classA[['SIFT_cat','SIFT_number']] = missense_variants_classA['SIFT'].str.split('(',expand=True)\n",
    "g = sns.countplot(data=missense_variants_classA, x='SIFT_cat')\n",
    "g.set_xticklabels(g.xaxis.get_majorticklabels(),rotation=30)\n",
    "g.set_xlabel('SIFT categorical label')\n",
    "missense_variants_classA[['PolyPhen_cat','PolyPhen_number']] = missense_variants_classA['PolyPhen'].str.split('(',expand=True)\n",
    "g = sns.countplot(data=missense_variants_classA, x='PolyPhen_cat')\n",
    "g.set_xticklabels(g.xaxis.get_majorticklabels(),rotation=30)\n",
    "g.set_xlabel('Polyphen categorical label')"
   ]
  },
  {
   "cell_type": "code",
   "execution_count": null,
   "metadata": {},
   "outputs": [],
   "source": [
    "# What amino acids is R3x50 mutated to?\n",
    "pd.DataFrame(missense_variants_classA[missense_variants_classA.GPCRdb_alignment_number =='3.50x50'].alternate_amino_acid.value_counts()).reset_index()\n",
    "# What is the fraction of singleton mutations to R3x50?\n",
    "(missense_variants_classA[missense_variants_classA.GPCRdb_alignment_number =='3.50x50'].allele_count == 1).sum() / \\\n",
    "    missense_variants_classA[missense_variants_classA.GPCRdb_alignment_number =='3.50x50'].shape[0]\n",
    "# What is the fraction of singleton mutations over all mutations?\n",
    "(missense_variants_classA.allele_count == 1).sum() / \\\n",
    "    missense_variants_classA.shape[0]\n",
    "# How many homozygous individuals for R3x50 mutations are observed?\n",
    "missense_variants_classA[(missense_variants_classA.GPCRdb_alignment_number =='3.50x50') & \\\n",
    "                        (missense_variants_classA.num_alternate_homozygous > 0)]\\\n",
    "    [['Uniprot_name','reference_amino_acid','alternate_amino_acid','num_alternate_homozygous']]"
   ]
  }
 ],
 "metadata": {
  "kernelspec": {
   "display_name": "Python [conda env:variants]",
   "language": "python",
   "name": "conda-env-variants-py"
  },
  "language_info": {
   "codemirror_mode": {
    "name": "ipython",
    "version": 3
   },
   "file_extension": ".py",
   "mimetype": "text/x-python",
   "name": "python",
   "nbconvert_exporter": "python",
   "pygments_lexer": "ipython3",
   "version": "3.8.5"
  }
 },
 "nbformat": 4,
 "nbformat_minor": 4
}
