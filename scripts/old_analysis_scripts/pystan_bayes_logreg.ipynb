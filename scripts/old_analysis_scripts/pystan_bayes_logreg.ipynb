{
 "cells": [
  {
   "cell_type": "code",
   "execution_count": 1,
   "metadata": {
    "colab": {
     "base_uri": "https://localhost:8080/"
    },
    "id": "eAHv81S2iWFT",
    "outputId": "b4617fe2-3da5-4ac8-db95-669c50aa119b"
   },
   "outputs": [
    {
     "name": "stdout",
     "output_type": "stream",
     "text": [
      "Requirement already satisfied: pystan in /usr/local/lib/python3.7/dist-packages (2.19.1.1)\n",
      "Requirement already satisfied: Cython!=0.25.1,>=0.22 in /usr/local/lib/python3.7/dist-packages (from pystan) (0.29.23)\n",
      "Requirement already satisfied: numpy>=1.7 in /usr/local/lib/python3.7/dist-packages (from pystan) (1.19.5)\n"
     ]
    }
   ],
   "source": [
    "!pip install pystan"
   ]
  },
  {
   "cell_type": "code",
   "execution_count": 3,
   "metadata": {
    "id": "XeZOAVtSiYV1"
   },
   "outputs": [],
   "source": [
    "import pystan\n",
    "import pandas as pd\n",
    "import numpy as np\n",
    "from sklearn.datasets import make_classification\n",
    "from sklearn.metrics import roc_auc_score\n",
    "from scipy.special import expit"
   ]
  },
  {
   "cell_type": "code",
   "execution_count": 5,
   "metadata": {
    "id": "5f-sZtRaicPk"
   },
   "outputs": [],
   "source": [
    "log_ab_normal = \"\"\"\n",
    "    /* Stan model code for logistic regression */\n",
    "    data {                                 \n",
    "        int<lower=0> N;  // count of observations\n",
    "        int<lower=0> K;  // count of features\n",
    "        matrix[N, K] X;  // feature matrix\n",
    "        int<lower=0,upper=1> y[N];  // target\n",
    "    }\n",
    "    parameters {\n",
    "        real alpha;  // bias\n",
    "        vector[K] beta;  // feature weights\n",
    "    }\n",
    "    model { \n",
    "        alpha ~ normal(0,5);  // bias prior\n",
    "        beta ~ normal(0,1.0);  // featue weights prior\n",
    "        y ~ bernoulli_logit(alpha + X * beta);  // likelihood\n",
    "    }\n",
    "    generated quantities {}\n",
    "    \"\"\"\n"
   ]
  },
  {
   "cell_type": "code",
   "execution_count": 11,
   "metadata": {
    "id": "yvfxBzyHiwXN"
   },
   "outputs": [],
   "source": [
    "def fit():\n",
    "    \"\"\"Fit a Bayesian logistic regression model using MCMC sampling.\n",
    "   \tArgs:\n",
    "\t\tinput_fn: lambda function that return training data as two numpy arrays (x, y).\n",
    "\t\t\n",
    "    Returns:\n",
    "      fit: Fitted Stan output.\t\n",
    "    \"\"\"\n",
    "    features, labels = make_classification(n_features=5, n_samples=1000)\n",
    "\n",
    "    stan_datadict = {}\n",
    "    stan_datadict['N'] = features.shape[0]\n",
    "    stan_datadict['K'] = features.shape[1]\n",
    "    stan_datadict['X'] = features\n",
    "    stan_datadict['y'] = labels\n",
    "\n",
    "    model = pystan.StanModel(model_code=log_ab_normal)\n",
    "\n",
    "    fit = model.sampling(\n",
    "        data=stan_datadict, warmup=250, iter=1000, verbose=True)\n",
    "\n",
    "    return (features, labels, fit)\n",
    "\n",
    "\n",
    "def evaluate(features, labels, fit):\n",
    "    \"\"\"Evaluate the performance of fitted model on unseen test data.\n",
    "   \tArgs:\n",
    "\t\tinput_fn: lambda function that outputs test data as two numpy arrays (x, y).\n",
    "\t\t\n",
    "\tReturns:\n",
    "\t\tscore: AUC score of fitted model\t\n",
    "\t\"\"\"\n",
    "\n",
    "    b = fit.extract(['alpha'])['alpha'].mean()\n",
    "    w = fit.extract(['beta'])['beta'].mean(axis=0)\n",
    "\n",
    "    logits = features @ w + b\n",
    "    preds = expit(logits)\n",
    "\n",
    "    score = roc_auc_score(labels, preds)\n",
    "    return score"
   ]
  },
  {
   "cell_type": "code",
   "execution_count": 12,
   "metadata": {
    "colab": {
     "base_uri": "https://localhost:8080/"
    },
    "id": "NgxUvsaLjZcZ",
    "outputId": "049a597f-da32-40e3-c385-22ad2b289eac"
   },
   "outputs": [
    {
     "name": "stderr",
     "output_type": "stream",
     "text": [
      "INFO:pystan:COMPILING THE C++ CODE FOR MODEL anon_model_3dd09af7b0835515b3175e391df50a26 NOW.\n"
     ]
    },
    {
     "data": {
      "text/plain": [
       "(array([[-1.70544481,  1.05184672, -0.81634385,  0.00663493, -1.76764936],\n",
       "        [ 0.78569833,  0.90930996, -0.93044512,  1.52942914,  1.22270603],\n",
       "        [ 0.7774027 , -1.58365708, -0.01941882, -1.2169977 ,  0.48227936],\n",
       "        ...,\n",
       "        [-0.91313133, -1.75223818, -0.40237757, -2.54208078, -1.62475287],\n",
       "        [-1.36950389,  1.27720649, -1.18267143,  0.48088931, -1.29273602],\n",
       "        [ 1.28207779, -0.54549664,  1.62807193,  0.26463011,  1.4006835 ]]),\n",
       " array([1, 1, 0, 0, 1, 1, 1, 1, 1, 1, 0, 0, 0, 0, 0, 0, 0, 0, 0, 1, 1, 1,\n",
       "        0, 1, 0, 1, 1, 0, 1, 0, 0, 1, 1, 0, 1, 0, 0, 1, 0, 1, 0, 1, 1, 0,\n",
       "        0, 1, 1, 1, 0, 1, 0, 0, 1, 1, 1, 0, 0, 0, 1, 0, 0, 0, 0, 0, 0, 0,\n",
       "        1, 0, 1, 0, 1, 1, 0, 0, 1, 0, 1, 0, 0, 0, 1, 1, 0, 1, 0, 0, 0, 0,\n",
       "        0, 1, 1, 1, 1, 0, 0, 0, 0, 0, 0, 0, 1, 0, 0, 1, 0, 1, 0, 1, 1, 0,\n",
       "        0, 0, 1, 0, 1, 0, 1, 0, 1, 0, 0, 0, 0, 0, 1, 1, 0, 1, 0, 1, 1, 1,\n",
       "        0, 0, 0, 0, 0, 1, 0, 1, 0, 0, 0, 0, 1, 0, 0, 0, 1, 0, 1, 0, 0, 0,\n",
       "        0, 1, 1, 1, 1, 0, 0, 0, 1, 0, 1, 0, 1, 0, 1, 0, 1, 0, 1, 0, 0, 0,\n",
       "        1, 0, 1, 0, 1, 1, 0, 0, 0, 1, 1, 1, 0, 1, 1, 1, 0, 0, 0, 1, 1, 1,\n",
       "        1, 0, 0, 0, 0, 0, 1, 0, 1, 0, 1, 0, 1, 1, 1, 1, 1, 0, 1, 1, 1, 0,\n",
       "        1, 0, 1, 1, 0, 0, 0, 0, 0, 1, 1, 1, 1, 1, 0, 0, 1, 0, 0, 0, 1, 1,\n",
       "        0, 1, 0, 1, 0, 1, 1, 0, 0, 0, 0, 1, 1, 0, 0, 1, 1, 1, 1, 1, 1, 0,\n",
       "        0, 0, 1, 0, 0, 1, 1, 1, 1, 1, 1, 1, 0, 1, 0, 0, 1, 1, 0, 0, 1, 0,\n",
       "        0, 1, 1, 1, 0, 1, 1, 0, 0, 0, 0, 1, 0, 1, 1, 1, 0, 0, 1, 1, 0, 0,\n",
       "        1, 1, 0, 1, 0, 1, 1, 0, 1, 0, 0, 0, 1, 1, 0, 1, 1, 0, 1, 1, 1, 1,\n",
       "        0, 0, 0, 1, 0, 1, 0, 1, 1, 1, 0, 1, 1, 1, 0, 1, 1, 0, 0, 1, 1, 0,\n",
       "        1, 0, 1, 0, 0, 1, 1, 1, 0, 0, 0, 1, 0, 1, 1, 0, 0, 0, 0, 1, 0, 0,\n",
       "        1, 0, 0, 0, 1, 1, 1, 1, 1, 0, 0, 0, 0, 1, 0, 1, 1, 0, 1, 0, 0, 0,\n",
       "        0, 1, 0, 0, 0, 0, 0, 1, 1, 0, 0, 0, 0, 1, 0, 1, 1, 0, 1, 0, 1, 1,\n",
       "        1, 1, 0, 0, 0, 1, 0, 0, 0, 0, 1, 0, 1, 0, 0, 0, 0, 0, 0, 0, 1, 0,\n",
       "        1, 0, 1, 1, 0, 1, 0, 1, 0, 0, 1, 1, 1, 0, 1, 0, 1, 0, 0, 0, 1, 1,\n",
       "        0, 1, 0, 1, 1, 1, 1, 0, 1, 0, 1, 0, 1, 1, 0, 0, 1, 1, 1, 0, 1, 0,\n",
       "        1, 1, 1, 0, 0, 1, 1, 0, 0, 0, 0, 1, 1, 0, 1, 1, 1, 1, 1, 0, 0, 0,\n",
       "        1, 1, 0, 1, 1, 0, 0, 0, 1, 0, 1, 0, 0, 1, 0, 1, 0, 1, 1, 0, 0, 1,\n",
       "        0, 1, 1, 0, 1, 1, 0, 1, 1, 1, 1, 1, 0, 0, 1, 1, 1, 0, 0, 0, 1, 1,\n",
       "        1, 1, 1, 0, 1, 0, 0, 1, 0, 0, 0, 0, 1, 0, 0, 0, 1, 0, 1, 1, 1, 0,\n",
       "        1, 0, 1, 1, 1, 1, 1, 0, 0, 0, 0, 0, 1, 1, 1, 0, 1, 1, 0, 1, 1, 1,\n",
       "        1, 1, 1, 0, 0, 0, 1, 0, 0, 1, 0, 1, 0, 1, 1, 1, 0, 0, 0, 1, 1, 1,\n",
       "        1, 1, 1, 1, 1, 1, 1, 0, 1, 0, 1, 0, 0, 1, 1, 1, 0, 1, 1, 1, 0, 0,\n",
       "        1, 1, 0, 0, 1, 1, 1, 0, 1, 1, 0, 1, 0, 1, 1, 0, 1, 1, 0, 1, 1, 0,\n",
       "        0, 0, 1, 0, 0, 0, 0, 0, 1, 0, 0, 1, 1, 0, 0, 0, 1, 0, 0, 1, 0, 1,\n",
       "        1, 0, 0, 0, 1, 0, 0, 0, 1, 1, 0, 0, 0, 0, 0, 0, 0, 1, 0, 1, 1, 0,\n",
       "        1, 1, 1, 0, 1, 1, 1, 0, 1, 0, 0, 0, 1, 0, 1, 1, 1, 1, 1, 1, 1, 0,\n",
       "        0, 0, 0, 0, 1, 1, 0, 0, 0, 0, 0, 1, 1, 0, 1, 0, 0, 1, 0, 0, 1, 1,\n",
       "        1, 0, 1, 1, 0, 1, 0, 1, 1, 1, 1, 0, 0, 1, 1, 0, 0, 0, 1, 0, 1, 1,\n",
       "        1, 0, 1, 0, 1, 0, 0, 1, 1, 1, 0, 1, 1, 0, 0, 0, 0, 0, 0, 1, 1, 0,\n",
       "        0, 0, 0, 1, 1, 1, 1, 1, 1, 1, 0, 1, 1, 1, 0, 0, 1, 1, 1, 0, 1, 1,\n",
       "        1, 0, 0, 0, 0, 0, 1, 0, 1, 0, 1, 1, 1, 1, 0, 1, 1, 1, 0, 0, 0, 0,\n",
       "        1, 0, 0, 0, 0, 1, 1, 0, 1, 0, 1, 1, 1, 1, 1, 0, 1, 1, 1, 1, 0, 0,\n",
       "        1, 0, 0, 0, 0, 0, 1, 1, 1, 1, 1, 1, 1, 0, 0, 0, 1, 0, 1, 1, 1, 0,\n",
       "        1, 1, 0, 0, 1, 1, 1, 1, 1, 1, 1, 0, 0, 0, 0, 1, 1, 1, 1, 0, 0, 0,\n",
       "        1, 1, 0, 0, 0, 0, 1, 0, 0, 0, 0, 1, 0, 1, 1, 0, 0, 0, 0, 1, 0, 0,\n",
       "        1, 1, 1, 0, 1, 0, 0, 1, 1, 1, 1, 1, 0, 1, 1, 0, 0, 1, 1, 0, 1, 0,\n",
       "        0, 0, 1, 0, 0, 0, 1, 1, 1, 0, 1, 0, 0, 0, 0, 0, 0, 1, 1, 1, 1, 1,\n",
       "        0, 1, 0, 1, 1, 0, 0, 0, 0, 1, 1, 1, 0, 0, 1, 0, 1, 0, 0, 1, 0, 0,\n",
       "        0, 1, 0, 1, 1, 0, 0, 0, 1, 0]),\n",
       " Inference for Stan model: anon_model_3dd09af7b0835515b3175e391df50a26.\n",
       " 4 chains, each with iter=1000; warmup=250; thin=1; \n",
       " post-warmup draws per chain=750, total post-warmup draws=3000.\n",
       " \n",
       "           mean se_mean     sd   2.5%    25%    50%    75%  97.5%  n_eff   Rhat\n",
       " alpha    -0.39  2.8e-3   0.14  -0.67  -0.49  -0.39  -0.29  -0.12   2631    1.0\n",
       " beta[1]  -0.81    0.02   0.77  -2.29  -1.33   -0.8   -0.3   0.73   1612    1.0\n",
       " beta[2]   1.92    0.02    0.7   0.51   1.46   1.91   2.39   3.36   1276    1.0\n",
       " beta[3]  -0.03  2.8e-3   0.13  -0.28  -0.11  -0.03   0.06   0.22   2099    1.0\n",
       " beta[4]   1.59    0.02   0.69   0.22   1.12   1.61   2.06   2.94   1155   1.01\n",
       " beta[5]  -0.35    0.02    0.7  -1.71  -0.83  -0.35   0.11   0.99   1500    1.0\n",
       " lp__    -210.9    0.05   1.79 -215.4 -211.9 -210.6 -209.6 -208.5   1136    1.0\n",
       " \n",
       " Samples were drawn using NUTS at Thu May 20 16:18:50 2021.\n",
       " For each parameter, n_eff is a crude measure of effective sample size,\n",
       " and Rhat is the potential scale reduction factor on split chains (at \n",
       " convergence, Rhat=1).)"
      ]
     },
     "execution_count": 12,
     "metadata": {
      "tags": []
     },
     "output_type": "execute_result"
    }
   ],
   "source": [
    "fit()"
   ]
  }
 ],
 "metadata": {
  "colab": {
   "collapsed_sections": [],
   "name": "pystan_bayes_logreg.ipynb",
   "provenance": []
  },
  "kernelspec": {
   "display_name": "Python 3",
   "language": "python",
   "name": "python3"
  },
  "language_info": {
   "codemirror_mode": {
    "name": "ipython",
    "version": 3
   },
   "file_extension": ".py",
   "mimetype": "text/x-python",
   "name": "python",
   "nbconvert_exporter": "python",
   "pygments_lexer": "ipython3",
   "version": "3.8.3"
  }
 },
 "nbformat": 4,
 "nbformat_minor": 4
}
