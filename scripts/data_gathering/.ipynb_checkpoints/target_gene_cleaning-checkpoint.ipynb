{
 "cells": [
  {
   "cell_type": "code",
   "execution_count": 1,
   "metadata": {},
   "outputs": [],
   "source": [
    "import pandas as pd"
   ]
  },
  {
   "cell_type": "code",
   "execution_count": 3,
   "metadata": {},
   "outputs": [],
   "source": [
    "guide2pharm_targets = pd.read_csv('../../data/target_genes/GuideToPharm_GPCR_targets_refined_060121.csv')\n",
    "ensembl_grch37_gene_locations = pd.read_csv('../../data/target_genes/Ensembl_Grch37_gpcr_genome_locations.csv')"
   ]
  },
  {
   "cell_type": "code",
   "execution_count": 11,
   "metadata": {},
   "outputs": [],
   "source": [
    "guide2pharm_targets = guide2pharm_targets[['Target name','synonyms','HGNC symbol','Uniprot name']]\n",
    "ensembl_grch37_gene_locations = ensembl_grch37_gene_locations[['HGNC symbol','Grch37 symbol']]\n",
    "target_names = guide2pharm_targets.merge(ensembl_grch37_gene_locations, on='HGNC symbol')\n",
    "target_names.columns = ['name','synonyms','symbol','uniprot_name','symbol_Grch37']\n",
    "target_names.to_csv('../../data/target_genes/target_gene_names_combined.csv')"
   ]
  }
 ],
 "metadata": {
  "kernelspec": {
   "display_name": "Python [conda env:variants]",
   "language": "python",
   "name": "conda-env-variants-py"
  },
  "language_info": {
   "codemirror_mode": {
    "name": "ipython",
    "version": 3
   },
   "file_extension": ".py",
   "mimetype": "text/x-python",
   "name": "python",
   "nbconvert_exporter": "python",
   "pygments_lexer": "ipython3",
   "version": "3.8.5"
  }
 },
 "nbformat": 4,
 "nbformat_minor": 4
}
